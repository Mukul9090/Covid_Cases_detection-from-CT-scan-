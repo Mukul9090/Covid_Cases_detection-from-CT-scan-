{
  "nbformat": 4,
  "nbformat_minor": 0,
  "metadata": {
    "colab": {
      "name": "Final_covid_CT_Classifier",
      "provenance": [],
      "collapsed_sections": [],
      "toc_visible": true,
      "include_colab_link": true
    },
    "kernelspec": {
      "name": "python3",
      "display_name": "Python 3"
    },
    "language_info": {
      "name": "python"
    }
  },
  "cells": [
    {
      "cell_type": "markdown",
      "metadata": {
        "id": "view-in-github",
        "colab_type": "text"
      },
      "source": [
        "<a href=\"https://colab.research.google.com/github/Mukul9090/Covid_Cases_detection-from-CT-scan-/blob/main/Final_covid_CT_Classifier.ipynb\" target=\"_parent\"><img src=\"https://colab.research.google.com/assets/colab-badge.svg\" alt=\"Open In Colab\"/></a>"
      ]
    },
    {
      "cell_type": "code",
      "metadata": {
        "id": "Trmv7XWRuQ1w"
      },
      "source": [
        "import tensorflow as tf\n",
        "import pandas as pd\n",
        "import numpy as np\n",
        "import keras"
      ],
      "execution_count": null,
      "outputs": []
    },
    {
      "cell_type": "code",
      "metadata": {
        "id": "bFkzyQVPuS8k"
      },
      "source": [
        "import pandas as pd\n",
        "import numpy as np \n",
        "from PIL import Image\n",
        "import os\n",
        "from glob import glob \n",
        "import statsmodels.api as sm\n"
      ],
      "execution_count": null,
      "outputs": []
    },
    {
      "cell_type": "code",
      "metadata": {
        "id": "fkvL-WFruS_H"
      },
      "source": [
        "from tensorflow.keras.preprocessing.image import ImageDataGenerator\n",
        "import os \n",
        "import matplotlib.pyplot as plt\n",
        "from PIL import Image, ImageOps\n"
      ],
      "execution_count": null,
      "outputs": []
    },
    {
      "cell_type": "code",
      "metadata": {
        "colab": {
          "base_uri": "https://localhost:8080/"
        },
        "id": "li9YfcyvzAEU",
        "outputId": "55134751-7c3e-4714-93a7-d8aef85f2b80"
      },
      "source": [
        "from google.colab import drive\n",
        "drive.mount('/content/drive')"
      ],
      "execution_count": null,
      "outputs": [
        {
          "output_type": "stream",
          "text": [
            "Mounted at /content/drive\n"
          ],
          "name": "stdout"
        }
      ]
    },
    {
      "cell_type": "code",
      "metadata": {
        "id": "e49huQaOzIxs"
      },
      "source": [
        "img_path=glob('/content/drive/MyDrive/DataImages/CT_COVID/*')"
      ],
      "execution_count": null,
      "outputs": []
    },
    {
      "cell_type": "code",
      "metadata": {
        "id": "yAyZBcqr2I6L"
      },
      "source": [
        "df_covid=pd.DataFrame(data=img_path, columns=['Path'])"
      ],
      "execution_count": null,
      "outputs": []
    },
    {
      "cell_type": "code",
      "metadata": {
        "id": "kLnhHSTnuTBf",
        "colab": {
          "base_uri": "https://localhost:8080/",
          "height": 402
        },
        "outputId": "6c044db8-0cd7-4229-d902-fa565fb51bb6"
      },
      "source": [
        "df_covid['type']=\"Covid+ve\"\n",
        "df_covid"
      ],
      "execution_count": null,
      "outputs": [
        {
          "output_type": "execute_result",
          "data": {
            "text/html": [
              "<div>\n",
              "<style scoped>\n",
              "    .dataframe tbody tr th:only-of-type {\n",
              "        vertical-align: middle;\n",
              "    }\n",
              "\n",
              "    .dataframe tbody tr th {\n",
              "        vertical-align: top;\n",
              "    }\n",
              "\n",
              "    .dataframe thead th {\n",
              "        text-align: right;\n",
              "    }\n",
              "</style>\n",
              "<table border=\"1\" class=\"dataframe\">\n",
              "  <thead>\n",
              "    <tr style=\"text-align: right;\">\n",
              "      <th></th>\n",
              "      <th>Path</th>\n",
              "      <th>type</th>\n",
              "    </tr>\n",
              "  </thead>\n",
              "  <tbody>\n",
              "    <tr>\n",
              "      <th>0</th>\n",
              "      <td>/content/drive/MyDrive/DataImages/CT_COVID/202...</td>\n",
              "      <td>Covid+ve</td>\n",
              "    </tr>\n",
              "    <tr>\n",
              "      <th>1</th>\n",
              "      <td>/content/drive/MyDrive/DataImages/CT_COVID/202...</td>\n",
              "      <td>Covid+ve</td>\n",
              "    </tr>\n",
              "    <tr>\n",
              "      <th>2</th>\n",
              "      <td>/content/drive/MyDrive/DataImages/CT_COVID/202...</td>\n",
              "      <td>Covid+ve</td>\n",
              "    </tr>\n",
              "    <tr>\n",
              "      <th>3</th>\n",
              "      <td>/content/drive/MyDrive/DataImages/CT_COVID/202...</td>\n",
              "      <td>Covid+ve</td>\n",
              "    </tr>\n",
              "    <tr>\n",
              "      <th>4</th>\n",
              "      <td>/content/drive/MyDrive/DataImages/CT_COVID/202...</td>\n",
              "      <td>Covid+ve</td>\n",
              "    </tr>\n",
              "    <tr>\n",
              "      <th>...</th>\n",
              "      <td>...</td>\n",
              "      <td>...</td>\n",
              "    </tr>\n",
              "    <tr>\n",
              "      <th>344</th>\n",
              "      <td>/content/drive/MyDrive/DataImages/CT_COVID/202...</td>\n",
              "      <td>Covid+ve</td>\n",
              "    </tr>\n",
              "    <tr>\n",
              "      <th>345</th>\n",
              "      <td>/content/drive/MyDrive/DataImages/CT_COVID/202...</td>\n",
              "      <td>Covid+ve</td>\n",
              "    </tr>\n",
              "    <tr>\n",
              "      <th>346</th>\n",
              "      <td>/content/drive/MyDrive/DataImages/CT_COVID/202...</td>\n",
              "      <td>Covid+ve</td>\n",
              "    </tr>\n",
              "    <tr>\n",
              "      <th>347</th>\n",
              "      <td>/content/drive/MyDrive/DataImages/CT_COVID/202...</td>\n",
              "      <td>Covid+ve</td>\n",
              "    </tr>\n",
              "    <tr>\n",
              "      <th>348</th>\n",
              "      <td>/content/drive/MyDrive/DataImages/CT_COVID/202...</td>\n",
              "      <td>Covid+ve</td>\n",
              "    </tr>\n",
              "  </tbody>\n",
              "</table>\n",
              "<p>349 rows × 2 columns</p>\n",
              "</div>"
            ],
            "text/plain": [
              "                                                  Path      type\n",
              "0    /content/drive/MyDrive/DataImages/CT_COVID/202...  Covid+ve\n",
              "1    /content/drive/MyDrive/DataImages/CT_COVID/202...  Covid+ve\n",
              "2    /content/drive/MyDrive/DataImages/CT_COVID/202...  Covid+ve\n",
              "3    /content/drive/MyDrive/DataImages/CT_COVID/202...  Covid+ve\n",
              "4    /content/drive/MyDrive/DataImages/CT_COVID/202...  Covid+ve\n",
              "..                                                 ...       ...\n",
              "344  /content/drive/MyDrive/DataImages/CT_COVID/202...  Covid+ve\n",
              "345  /content/drive/MyDrive/DataImages/CT_COVID/202...  Covid+ve\n",
              "346  /content/drive/MyDrive/DataImages/CT_COVID/202...  Covid+ve\n",
              "347  /content/drive/MyDrive/DataImages/CT_COVID/202...  Covid+ve\n",
              "348  /content/drive/MyDrive/DataImages/CT_COVID/202...  Covid+ve\n",
              "\n",
              "[349 rows x 2 columns]"
            ]
          },
          "metadata": {
            "tags": []
          },
          "execution_count": 9
        }
      ]
    },
    {
      "cell_type": "code",
      "metadata": {
        "id": "QQXnqbfdAcmG"
      },
      "source": [
        ""
      ],
      "execution_count": null,
      "outputs": []
    },
    {
      "cell_type": "code",
      "metadata": {
        "id": "W-ggOkrW4gtK"
      },
      "source": [
        ""
      ],
      "execution_count": null,
      "outputs": []
    },
    {
      "cell_type": "code",
      "metadata": {
        "id": "C5ZI2PLx4hDG"
      },
      "source": [
        ""
      ],
      "execution_count": null,
      "outputs": []
    },
    {
      "cell_type": "code",
      "metadata": {
        "id": "UUS2nPRRuTDn"
      },
      "source": [
        "img_path=glob('/content/drive/MyDrive/DataImages/CT_NonCOVID/*')"
      ],
      "execution_count": null,
      "outputs": []
    },
    {
      "cell_type": "code",
      "metadata": {
        "id": "CbzsdAfsuTF0"
      },
      "source": [
        "df_noncovid=pd.DataFrame(data=img_path,columns=['Path'])"
      ],
      "execution_count": null,
      "outputs": []
    },
    {
      "cell_type": "code",
      "metadata": {
        "id": "csTKa1CBuTH3",
        "colab": {
          "base_uri": "https://localhost:8080/",
          "height": 402
        },
        "outputId": "2cb8d69e-d46a-4123-9a13-52ca6a416570"
      },
      "source": [
        "df_noncovid['type']=\"Covid-ve\"\n",
        "df_noncovid"
      ],
      "execution_count": null,
      "outputs": [
        {
          "output_type": "execute_result",
          "data": {
            "text/html": [
              "<div>\n",
              "<style scoped>\n",
              "    .dataframe tbody tr th:only-of-type {\n",
              "        vertical-align: middle;\n",
              "    }\n",
              "\n",
              "    .dataframe tbody tr th {\n",
              "        vertical-align: top;\n",
              "    }\n",
              "\n",
              "    .dataframe thead th {\n",
              "        text-align: right;\n",
              "    }\n",
              "</style>\n",
              "<table border=\"1\" class=\"dataframe\">\n",
              "  <thead>\n",
              "    <tr style=\"text-align: right;\">\n",
              "      <th></th>\n",
              "      <th>Path</th>\n",
              "      <th>type</th>\n",
              "    </tr>\n",
              "  </thead>\n",
              "  <tbody>\n",
              "    <tr>\n",
              "      <th>0</th>\n",
              "      <td>/content/drive/MyDrive/DataImages/CT_NonCOVID/...</td>\n",
              "      <td>Covid-ve</td>\n",
              "    </tr>\n",
              "    <tr>\n",
              "      <th>1</th>\n",
              "      <td>/content/drive/MyDrive/DataImages/CT_NonCOVID/...</td>\n",
              "      <td>Covid-ve</td>\n",
              "    </tr>\n",
              "    <tr>\n",
              "      <th>2</th>\n",
              "      <td>/content/drive/MyDrive/DataImages/CT_NonCOVID/...</td>\n",
              "      <td>Covid-ve</td>\n",
              "    </tr>\n",
              "    <tr>\n",
              "      <th>3</th>\n",
              "      <td>/content/drive/MyDrive/DataImages/CT_NonCOVID/...</td>\n",
              "      <td>Covid-ve</td>\n",
              "    </tr>\n",
              "    <tr>\n",
              "      <th>4</th>\n",
              "      <td>/content/drive/MyDrive/DataImages/CT_NonCOVID/...</td>\n",
              "      <td>Covid-ve</td>\n",
              "    </tr>\n",
              "    <tr>\n",
              "      <th>...</th>\n",
              "      <td>...</td>\n",
              "      <td>...</td>\n",
              "    </tr>\n",
              "    <tr>\n",
              "      <th>392</th>\n",
              "      <td>/content/drive/MyDrive/DataImages/CT_NonCOVID/...</td>\n",
              "      <td>Covid-ve</td>\n",
              "    </tr>\n",
              "    <tr>\n",
              "      <th>393</th>\n",
              "      <td>/content/drive/MyDrive/DataImages/CT_NonCOVID/...</td>\n",
              "      <td>Covid-ve</td>\n",
              "    </tr>\n",
              "    <tr>\n",
              "      <th>394</th>\n",
              "      <td>/content/drive/MyDrive/DataImages/CT_NonCOVID/...</td>\n",
              "      <td>Covid-ve</td>\n",
              "    </tr>\n",
              "    <tr>\n",
              "      <th>395</th>\n",
              "      <td>/content/drive/MyDrive/DataImages/CT_NonCOVID/...</td>\n",
              "      <td>Covid-ve</td>\n",
              "    </tr>\n",
              "    <tr>\n",
              "      <th>396</th>\n",
              "      <td>/content/drive/MyDrive/DataImages/CT_NonCOVID/...</td>\n",
              "      <td>Covid-ve</td>\n",
              "    </tr>\n",
              "  </tbody>\n",
              "</table>\n",
              "<p>397 rows × 2 columns</p>\n",
              "</div>"
            ],
            "text/plain": [
              "                                                  Path      type\n",
              "0    /content/drive/MyDrive/DataImages/CT_NonCOVID/...  Covid-ve\n",
              "1    /content/drive/MyDrive/DataImages/CT_NonCOVID/...  Covid-ve\n",
              "2    /content/drive/MyDrive/DataImages/CT_NonCOVID/...  Covid-ve\n",
              "3    /content/drive/MyDrive/DataImages/CT_NonCOVID/...  Covid-ve\n",
              "4    /content/drive/MyDrive/DataImages/CT_NonCOVID/...  Covid-ve\n",
              "..                                                 ...       ...\n",
              "392  /content/drive/MyDrive/DataImages/CT_NonCOVID/...  Covid-ve\n",
              "393  /content/drive/MyDrive/DataImages/CT_NonCOVID/...  Covid-ve\n",
              "394  /content/drive/MyDrive/DataImages/CT_NonCOVID/...  Covid-ve\n",
              "395  /content/drive/MyDrive/DataImages/CT_NonCOVID/...  Covid-ve\n",
              "396  /content/drive/MyDrive/DataImages/CT_NonCOVID/...  Covid-ve\n",
              "\n",
              "[397 rows x 2 columns]"
            ]
          },
          "metadata": {
            "tags": []
          },
          "execution_count": 12
        }
      ]
    },
    {
      "cell_type": "code",
      "metadata": {
        "id": "JaobW6vGuTN6"
      },
      "source": [
        "from sklearn.utils import resample"
      ],
      "execution_count": null,
      "outputs": []
    },
    {
      "cell_type": "code",
      "metadata": {
        "id": "S9w3z3tEuTQS"
      },
      "source": [
        "df_dataset=pd.concat([df_covid,df_noncovid])"
      ],
      "execution_count": null,
      "outputs": []
    },
    {
      "cell_type": "code",
      "metadata": {
        "id": "v7PjAtw-uTSc",
        "colab": {
          "base_uri": "https://localhost:8080/",
          "height": 402
        },
        "outputId": "4fcdfa0b-02b7-418a-a270-8eed46349f4c"
      },
      "source": [
        "final_df=resample(df_dataset,random_state=55)\n",
        "final_df"
      ],
      "execution_count": null,
      "outputs": [
        {
          "output_type": "execute_result",
          "data": {
            "text/html": [
              "<div>\n",
              "<style scoped>\n",
              "    .dataframe tbody tr th:only-of-type {\n",
              "        vertical-align: middle;\n",
              "    }\n",
              "\n",
              "    .dataframe tbody tr th {\n",
              "        vertical-align: top;\n",
              "    }\n",
              "\n",
              "    .dataframe thead th {\n",
              "        text-align: right;\n",
              "    }\n",
              "</style>\n",
              "<table border=\"1\" class=\"dataframe\">\n",
              "  <thead>\n",
              "    <tr style=\"text-align: right;\">\n",
              "      <th></th>\n",
              "      <th>Path</th>\n",
              "      <th>type</th>\n",
              "    </tr>\n",
              "  </thead>\n",
              "  <tbody>\n",
              "    <tr>\n",
              "      <th>112</th>\n",
              "      <td>/content/drive/MyDrive/DataImages/CT_NonCOVID/...</td>\n",
              "      <td>Covid-ve</td>\n",
              "    </tr>\n",
              "    <tr>\n",
              "      <th>317</th>\n",
              "      <td>/content/drive/MyDrive/DataImages/CT_NonCOVID/...</td>\n",
              "      <td>Covid-ve</td>\n",
              "    </tr>\n",
              "    <tr>\n",
              "      <th>295</th>\n",
              "      <td>/content/drive/MyDrive/DataImages/CT_COVID/202...</td>\n",
              "      <td>Covid+ve</td>\n",
              "    </tr>\n",
              "    <tr>\n",
              "      <th>192</th>\n",
              "      <td>/content/drive/MyDrive/DataImages/CT_NonCOVID/...</td>\n",
              "      <td>Covid-ve</td>\n",
              "    </tr>\n",
              "    <tr>\n",
              "      <th>37</th>\n",
              "      <td>/content/drive/MyDrive/DataImages/CT_COVID/202...</td>\n",
              "      <td>Covid+ve</td>\n",
              "    </tr>\n",
              "    <tr>\n",
              "      <th>...</th>\n",
              "      <td>...</td>\n",
              "      <td>...</td>\n",
              "    </tr>\n",
              "    <tr>\n",
              "      <th>204</th>\n",
              "      <td>/content/drive/MyDrive/DataImages/CT_COVID/202...</td>\n",
              "      <td>Covid+ve</td>\n",
              "    </tr>\n",
              "    <tr>\n",
              "      <th>262</th>\n",
              "      <td>/content/drive/MyDrive/DataImages/CT_COVID/202...</td>\n",
              "      <td>Covid+ve</td>\n",
              "    </tr>\n",
              "    <tr>\n",
              "      <th>140</th>\n",
              "      <td>/content/drive/MyDrive/DataImages/CT_COVID/202...</td>\n",
              "      <td>Covid+ve</td>\n",
              "    </tr>\n",
              "    <tr>\n",
              "      <th>368</th>\n",
              "      <td>/content/drive/MyDrive/DataImages/CT_NonCOVID/...</td>\n",
              "      <td>Covid-ve</td>\n",
              "    </tr>\n",
              "    <tr>\n",
              "      <th>243</th>\n",
              "      <td>/content/drive/MyDrive/DataImages/CT_COVID/202...</td>\n",
              "      <td>Covid+ve</td>\n",
              "    </tr>\n",
              "  </tbody>\n",
              "</table>\n",
              "<p>746 rows × 2 columns</p>\n",
              "</div>"
            ],
            "text/plain": [
              "                                                  Path      type\n",
              "112  /content/drive/MyDrive/DataImages/CT_NonCOVID/...  Covid-ve\n",
              "317  /content/drive/MyDrive/DataImages/CT_NonCOVID/...  Covid-ve\n",
              "295  /content/drive/MyDrive/DataImages/CT_COVID/202...  Covid+ve\n",
              "192  /content/drive/MyDrive/DataImages/CT_NonCOVID/...  Covid-ve\n",
              "37   /content/drive/MyDrive/DataImages/CT_COVID/202...  Covid+ve\n",
              "..                                                 ...       ...\n",
              "204  /content/drive/MyDrive/DataImages/CT_COVID/202...  Covid+ve\n",
              "262  /content/drive/MyDrive/DataImages/CT_COVID/202...  Covid+ve\n",
              "140  /content/drive/MyDrive/DataImages/CT_COVID/202...  Covid+ve\n",
              "368  /content/drive/MyDrive/DataImages/CT_NonCOVID/...  Covid-ve\n",
              "243  /content/drive/MyDrive/DataImages/CT_COVID/202...  Covid+ve\n",
              "\n",
              "[746 rows x 2 columns]"
            ]
          },
          "metadata": {
            "tags": []
          },
          "execution_count": 15
        }
      ]
    },
    {
      "cell_type": "code",
      "metadata": {
        "colab": {
          "base_uri": "https://localhost:8080/"
        },
        "id": "oXKjSoy3KCbZ",
        "outputId": "0739cb21-c9a3-431c-c9bb-49bdea8dbb7b"
      },
      "source": [
        "final_df[\"Image\"]=final_df[\"Path\"].map(lambda x: np.asarray(Image.open(x).convert('RGB').resize((32,32))))"
      ],
      "execution_count": null,
      "outputs": [
        {
          "output_type": "stream",
          "text": [
            "/usr/local/lib/python3.7/dist-packages/ipykernel_launcher.py:1: SettingWithCopyWarning: \n",
            "A value is trying to be set on a copy of a slice from a DataFrame.\n",
            "Try using .loc[row_indexer,col_indexer] = value instead\n",
            "\n",
            "See the caveats in the documentation: https://pandas.pydata.org/pandas-docs/stable/user_guide/indexing.html#returning-a-view-versus-a-copy\n",
            "  \"\"\"Entry point for launching an IPython kernel.\n"
          ],
          "name": "stderr"
        }
      ]
    },
    {
      "cell_type": "code",
      "metadata": {
        "id": "kJEAzSK68Vwh"
      },
      "source": [
        "\n",
        "import keras\n",
        "from keras.utils.np_utils import to_categorical # used for converting labels to one-hot-encoding\n",
        "from keras.models import Sequential\n",
        "from keras.layers import Dense, Dropout, Flatten, Conv2D, MaxPool2D, BatchNormalization\n",
        "from sklearn.model_selection import train_test_split\n",
        "from scipy import stats\n",
        "from sklearn.preprocessing import LabelEncoder"
      ],
      "execution_count": null,
      "outputs": []
    },
    {
      "cell_type": "code",
      "metadata": {
        "id": "AadLWwis8aLa",
        "colab": {
          "base_uri": "https://localhost:8080/"
        },
        "outputId": "d0bf59e2-f138-45dc-9ff9-d5a6ebe8bf79"
      },
      "source": [
        "pip install autokeras"
      ],
      "execution_count": null,
      "outputs": [
        {
          "output_type": "stream",
          "text": [
            "Collecting autokeras\n",
            "\u001b[?25l  Downloading https://files.pythonhosted.org/packages/75/c7/9a8d37ae2d7e66ad545abc722b8d2d4311325c5cd23bd138085e78996cd4/autokeras-1.0.14-py3-none-any.whl (166kB)\n",
            "\r\u001b[K     |██                              | 10kB 16.9MB/s eta 0:00:01\r\u001b[K     |████                            | 20kB 24.1MB/s eta 0:00:01\r\u001b[K     |██████                          | 30kB 23.7MB/s eta 0:00:01\r\u001b[K     |███████▉                        | 40kB 18.7MB/s eta 0:00:01\r\u001b[K     |█████████▉                      | 51kB 10.5MB/s eta 0:00:01\r\u001b[K     |███████████▉                    | 61kB 9.3MB/s eta 0:00:01\r\u001b[K     |█████████████▉                  | 71kB 10.5MB/s eta 0:00:01\r\u001b[K     |███████████████▊                | 81kB 11.5MB/s eta 0:00:01\r\u001b[K     |█████████████████▊              | 92kB 11.5MB/s eta 0:00:01\r\u001b[K     |███████████████████▊            | 102kB 10.0MB/s eta 0:00:01\r\u001b[K     |█████████████████████▊          | 112kB 10.0MB/s eta 0:00:01\r\u001b[K     |███████████████████████▋        | 122kB 10.0MB/s eta 0:00:01\r\u001b[K     |█████████████████████████▋      | 133kB 10.0MB/s eta 0:00:01\r\u001b[K     |███████████████████████████▋    | 143kB 10.0MB/s eta 0:00:01\r\u001b[K     |█████████████████████████████▋  | 153kB 10.0MB/s eta 0:00:01\r\u001b[K     |███████████████████████████████▌| 163kB 10.0MB/s eta 0:00:01\r\u001b[K     |████████████████████████████████| 174kB 10.0MB/s \n",
            "\u001b[?25hRequirement already satisfied: scikit-learn in /usr/local/lib/python3.7/dist-packages (from autokeras) (0.22.2.post1)\n",
            "Requirement already satisfied: tensorflow>=2.3.0 in /usr/local/lib/python3.7/dist-packages (from autokeras) (2.5.0)\n",
            "Requirement already satisfied: pandas in /usr/local/lib/python3.7/dist-packages (from autokeras) (1.1.5)\n",
            "Collecting keras-tuner>=1.0.2\n",
            "\u001b[?25l  Downloading https://files.pythonhosted.org/packages/20/ec/1ef246787174b1e2bb591c95f29d3c1310070cad877824f907faba3dade9/keras-tuner-1.0.2.tar.gz (62kB)\n",
            "\u001b[K     |████████████████████████████████| 71kB 9.2MB/s \n",
            "\u001b[?25hRequirement already satisfied: packaging in /usr/local/lib/python3.7/dist-packages (from autokeras) (20.9)\n",
            "Requirement already satisfied: joblib>=0.11 in /usr/local/lib/python3.7/dist-packages (from scikit-learn->autokeras) (1.0.1)\n",
            "Requirement already satisfied: numpy>=1.11.0 in /usr/local/lib/python3.7/dist-packages (from scikit-learn->autokeras) (1.19.5)\n",
            "Requirement already satisfied: scipy>=0.17.0 in /usr/local/lib/python3.7/dist-packages (from scikit-learn->autokeras) (1.4.1)\n",
            "Requirement already satisfied: h5py~=3.1.0 in /usr/local/lib/python3.7/dist-packages (from tensorflow>=2.3.0->autokeras) (3.1.0)\n",
            "Requirement already satisfied: grpcio~=1.34.0 in /usr/local/lib/python3.7/dist-packages (from tensorflow>=2.3.0->autokeras) (1.34.1)\n",
            "Requirement already satisfied: gast==0.4.0 in /usr/local/lib/python3.7/dist-packages (from tensorflow>=2.3.0->autokeras) (0.4.0)\n",
            "Requirement already satisfied: wheel~=0.35 in /usr/local/lib/python3.7/dist-packages (from tensorflow>=2.3.0->autokeras) (0.36.2)\n",
            "Requirement already satisfied: absl-py~=0.10 in /usr/local/lib/python3.7/dist-packages (from tensorflow>=2.3.0->autokeras) (0.12.0)\n",
            "Requirement already satisfied: six~=1.15.0 in /usr/local/lib/python3.7/dist-packages (from tensorflow>=2.3.0->autokeras) (1.15.0)\n",
            "Requirement already satisfied: wrapt~=1.12.1 in /usr/local/lib/python3.7/dist-packages (from tensorflow>=2.3.0->autokeras) (1.12.1)\n",
            "Requirement already satisfied: keras-nightly~=2.5.0.dev in /usr/local/lib/python3.7/dist-packages (from tensorflow>=2.3.0->autokeras) (2.5.0.dev2021032900)\n",
            "Requirement already satisfied: termcolor~=1.1.0 in /usr/local/lib/python3.7/dist-packages (from tensorflow>=2.3.0->autokeras) (1.1.0)\n",
            "Requirement already satisfied: typing-extensions~=3.7.4 in /usr/local/lib/python3.7/dist-packages (from tensorflow>=2.3.0->autokeras) (3.7.4.3)\n",
            "Requirement already satisfied: astunparse~=1.6.3 in /usr/local/lib/python3.7/dist-packages (from tensorflow>=2.3.0->autokeras) (1.6.3)\n",
            "Requirement already satisfied: tensorboard~=2.5 in /usr/local/lib/python3.7/dist-packages (from tensorflow>=2.3.0->autokeras) (2.5.0)\n",
            "Requirement already satisfied: keras-preprocessing~=1.1.2 in /usr/local/lib/python3.7/dist-packages (from tensorflow>=2.3.0->autokeras) (1.1.2)\n",
            "Requirement already satisfied: google-pasta~=0.2 in /usr/local/lib/python3.7/dist-packages (from tensorflow>=2.3.0->autokeras) (0.2.0)\n",
            "Requirement already satisfied: flatbuffers~=1.12.0 in /usr/local/lib/python3.7/dist-packages (from tensorflow>=2.3.0->autokeras) (1.12)\n",
            "Requirement already satisfied: opt-einsum~=3.3.0 in /usr/local/lib/python3.7/dist-packages (from tensorflow>=2.3.0->autokeras) (3.3.0)\n",
            "Requirement already satisfied: protobuf>=3.9.2 in /usr/local/lib/python3.7/dist-packages (from tensorflow>=2.3.0->autokeras) (3.12.4)\n",
            "Requirement already satisfied: tensorflow-estimator<2.6.0,>=2.5.0rc0 in /usr/local/lib/python3.7/dist-packages (from tensorflow>=2.3.0->autokeras) (2.5.0)\n",
            "Requirement already satisfied: python-dateutil>=2.7.3 in /usr/local/lib/python3.7/dist-packages (from pandas->autokeras) (2.8.1)\n",
            "Requirement already satisfied: pytz>=2017.2 in /usr/local/lib/python3.7/dist-packages (from pandas->autokeras) (2018.9)\n",
            "Requirement already satisfied: future in /usr/local/lib/python3.7/dist-packages (from keras-tuner>=1.0.2->autokeras) (0.16.0)\n",
            "Requirement already satisfied: tabulate in /usr/local/lib/python3.7/dist-packages (from keras-tuner>=1.0.2->autokeras) (0.8.9)\n",
            "Collecting terminaltables\n",
            "  Downloading https://files.pythonhosted.org/packages/9b/c4/4a21174f32f8a7e1104798c445dacdc1d4df86f2f26722767034e4de4bff/terminaltables-3.1.0.tar.gz\n",
            "Collecting colorama\n",
            "  Downloading https://files.pythonhosted.org/packages/44/98/5b86278fbbf250d239ae0ecb724f8572af1c91f4a11edf4d36a206189440/colorama-0.4.4-py2.py3-none-any.whl\n",
            "Requirement already satisfied: tqdm in /usr/local/lib/python3.7/dist-packages (from keras-tuner>=1.0.2->autokeras) (4.41.1)\n",
            "Requirement already satisfied: requests in /usr/local/lib/python3.7/dist-packages (from keras-tuner>=1.0.2->autokeras) (2.23.0)\n",
            "Requirement already satisfied: pyparsing>=2.0.2 in /usr/local/lib/python3.7/dist-packages (from packaging->autokeras) (2.4.7)\n",
            "Requirement already satisfied: cached-property; python_version < \"3.8\" in /usr/local/lib/python3.7/dist-packages (from h5py~=3.1.0->tensorflow>=2.3.0->autokeras) (1.5.2)\n",
            "Requirement already satisfied: tensorboard-data-server<0.7.0,>=0.6.0 in /usr/local/lib/python3.7/dist-packages (from tensorboard~=2.5->tensorflow>=2.3.0->autokeras) (0.6.1)\n",
            "Requirement already satisfied: google-auth<2,>=1.6.3 in /usr/local/lib/python3.7/dist-packages (from tensorboard~=2.5->tensorflow>=2.3.0->autokeras) (1.30.0)\n",
            "Requirement already satisfied: setuptools>=41.0.0 in /usr/local/lib/python3.7/dist-packages (from tensorboard~=2.5->tensorflow>=2.3.0->autokeras) (57.0.0)\n",
            "Requirement already satisfied: tensorboard-plugin-wit>=1.6.0 in /usr/local/lib/python3.7/dist-packages (from tensorboard~=2.5->tensorflow>=2.3.0->autokeras) (1.8.0)\n",
            "Requirement already satisfied: werkzeug>=0.11.15 in /usr/local/lib/python3.7/dist-packages (from tensorboard~=2.5->tensorflow>=2.3.0->autokeras) (1.0.1)\n",
            "Requirement already satisfied: markdown>=2.6.8 in /usr/local/lib/python3.7/dist-packages (from tensorboard~=2.5->tensorflow>=2.3.0->autokeras) (3.3.4)\n",
            "Requirement already satisfied: google-auth-oauthlib<0.5,>=0.4.1 in /usr/local/lib/python3.7/dist-packages (from tensorboard~=2.5->tensorflow>=2.3.0->autokeras) (0.4.4)\n",
            "Requirement already satisfied: chardet<4,>=3.0.2 in /usr/local/lib/python3.7/dist-packages (from requests->keras-tuner>=1.0.2->autokeras) (3.0.4)\n",
            "Requirement already satisfied: certifi>=2017.4.17 in /usr/local/lib/python3.7/dist-packages (from requests->keras-tuner>=1.0.2->autokeras) (2020.12.5)\n",
            "Requirement already satisfied: urllib3!=1.25.0,!=1.25.1,<1.26,>=1.21.1 in /usr/local/lib/python3.7/dist-packages (from requests->keras-tuner>=1.0.2->autokeras) (1.24.3)\n",
            "Requirement already satisfied: idna<3,>=2.5 in /usr/local/lib/python3.7/dist-packages (from requests->keras-tuner>=1.0.2->autokeras) (2.10)\n",
            "Requirement already satisfied: pyasn1-modules>=0.2.1 in /usr/local/lib/python3.7/dist-packages (from google-auth<2,>=1.6.3->tensorboard~=2.5->tensorflow>=2.3.0->autokeras) (0.2.8)\n",
            "Requirement already satisfied: rsa<5,>=3.1.4; python_version >= \"3.6\" in /usr/local/lib/python3.7/dist-packages (from google-auth<2,>=1.6.3->tensorboard~=2.5->tensorflow>=2.3.0->autokeras) (4.7.2)\n",
            "Requirement already satisfied: cachetools<5.0,>=2.0.0 in /usr/local/lib/python3.7/dist-packages (from google-auth<2,>=1.6.3->tensorboard~=2.5->tensorflow>=2.3.0->autokeras) (4.2.2)\n",
            "Requirement already satisfied: importlib-metadata; python_version < \"3.8\" in /usr/local/lib/python3.7/dist-packages (from markdown>=2.6.8->tensorboard~=2.5->tensorflow>=2.3.0->autokeras) (4.0.1)\n",
            "Requirement already satisfied: requests-oauthlib>=0.7.0 in /usr/local/lib/python3.7/dist-packages (from google-auth-oauthlib<0.5,>=0.4.1->tensorboard~=2.5->tensorflow>=2.3.0->autokeras) (1.3.0)\n",
            "Requirement already satisfied: pyasn1<0.5.0,>=0.4.6 in /usr/local/lib/python3.7/dist-packages (from pyasn1-modules>=0.2.1->google-auth<2,>=1.6.3->tensorboard~=2.5->tensorflow>=2.3.0->autokeras) (0.4.8)\n",
            "Requirement already satisfied: zipp>=0.5 in /usr/local/lib/python3.7/dist-packages (from importlib-metadata; python_version < \"3.8\"->markdown>=2.6.8->tensorboard~=2.5->tensorflow>=2.3.0->autokeras) (3.4.1)\n",
            "Requirement already satisfied: oauthlib>=3.0.0 in /usr/local/lib/python3.7/dist-packages (from requests-oauthlib>=0.7.0->google-auth-oauthlib<0.5,>=0.4.1->tensorboard~=2.5->tensorflow>=2.3.0->autokeras) (3.1.0)\n",
            "Building wheels for collected packages: keras-tuner, terminaltables\n",
            "  Building wheel for keras-tuner (setup.py) ... \u001b[?25l\u001b[?25hdone\n",
            "  Created wheel for keras-tuner: filename=keras_tuner-1.0.2-cp37-none-any.whl size=78935 sha256=5af134b1170500cafc075f283c8a2f62473fe537a10ede1512ae7be559294f9c\n",
            "  Stored in directory: /root/.cache/pip/wheels/bb/a1/8a/7c3de0efb3707a1701b36ebbfdbc4e67aedf6d4943a1f463d6\n",
            "  Building wheel for terminaltables (setup.py) ... \u001b[?25l\u001b[?25hdone\n",
            "  Created wheel for terminaltables: filename=terminaltables-3.1.0-cp37-none-any.whl size=15356 sha256=e1bc8b4d5224c34a6ddc92eb3d3cf4f8ac46334124564db89be8c8f204674b5d\n",
            "  Stored in directory: /root/.cache/pip/wheels/30/6b/50/6c75775b681fb36cdfac7f19799888ef9d8813aff9e379663e\n",
            "Successfully built keras-tuner terminaltables\n",
            "Installing collected packages: terminaltables, colorama, keras-tuner, autokeras\n",
            "Successfully installed autokeras-1.0.14 colorama-0.4.4 keras-tuner-1.0.2 terminaltables-3.1.0\n"
          ],
          "name": "stdout"
        }
      ]
    },
    {
      "cell_type": "code",
      "metadata": {
        "id": "ZndBFy567Og8",
        "colab": {
          "base_uri": "https://localhost:8080/"
        },
        "outputId": "50832539-9b63-45bb-d22b-019bf384457b"
      },
      "source": [
        "le=LabelEncoder()\n",
        "le.fit(final_df[\"type\"])\n"
      ],
      "execution_count": null,
      "outputs": [
        {
          "output_type": "execute_result",
          "data": {
            "text/plain": [
              "LabelEncoder()"
            ]
          },
          "metadata": {
            "tags": []
          },
          "execution_count": 19
        }
      ]
    },
    {
      "cell_type": "code",
      "metadata": {
        "id": "_8Ice8orTee3",
        "colab": {
          "base_uri": "https://localhost:8080/"
        },
        "outputId": "19b39ca2-4915-4e3e-910d-8d67f1745001"
      },
      "source": [
        "final_df['label']=le.transform(final_df['type'])"
      ],
      "execution_count": null,
      "outputs": [
        {
          "output_type": "stream",
          "text": [
            "/usr/local/lib/python3.7/dist-packages/ipykernel_launcher.py:1: SettingWithCopyWarning: \n",
            "A value is trying to be set on a copy of a slice from a DataFrame.\n",
            "Try using .loc[row_indexer,col_indexer] = value instead\n",
            "\n",
            "See the caveats in the documentation: https://pandas.pydata.org/pandas-docs/stable/user_guide/indexing.html#returning-a-view-versus-a-copy\n",
            "  \"\"\"Entry point for launching an IPython kernel.\n"
          ],
          "name": "stderr"
        }
      ]
    },
    {
      "cell_type": "code",
      "metadata": {
        "colab": {
          "base_uri": "https://localhost:8080/",
          "height": 402
        },
        "id": "JeFcZHRNBoGC",
        "outputId": "9dc107de-35c3-437c-d1cc-638077a1cbd6"
      },
      "source": [
        "final_df"
      ],
      "execution_count": null,
      "outputs": [
        {
          "output_type": "execute_result",
          "data": {
            "text/html": [
              "<div>\n",
              "<style scoped>\n",
              "    .dataframe tbody tr th:only-of-type {\n",
              "        vertical-align: middle;\n",
              "    }\n",
              "\n",
              "    .dataframe tbody tr th {\n",
              "        vertical-align: top;\n",
              "    }\n",
              "\n",
              "    .dataframe thead th {\n",
              "        text-align: right;\n",
              "    }\n",
              "</style>\n",
              "<table border=\"1\" class=\"dataframe\">\n",
              "  <thead>\n",
              "    <tr style=\"text-align: right;\">\n",
              "      <th></th>\n",
              "      <th>Path</th>\n",
              "      <th>type</th>\n",
              "      <th>Image</th>\n",
              "      <th>label</th>\n",
              "    </tr>\n",
              "  </thead>\n",
              "  <tbody>\n",
              "    <tr>\n",
              "      <th>112</th>\n",
              "      <td>/content/drive/MyDrive/DataImages/CT_NonCOVID/...</td>\n",
              "      <td>Covid-ve</td>\n",
              "      <td>[[[1, 1, 1], [1, 1, 1], [1, 1, 1], [1, 1, 1], ...</td>\n",
              "      <td>1</td>\n",
              "    </tr>\n",
              "    <tr>\n",
              "      <th>317</th>\n",
              "      <td>/content/drive/MyDrive/DataImages/CT_NonCOVID/...</td>\n",
              "      <td>Covid-ve</td>\n",
              "      <td>[[[78, 78, 78], [87, 87, 87], [81, 81, 81], [7...</td>\n",
              "      <td>1</td>\n",
              "    </tr>\n",
              "    <tr>\n",
              "      <th>295</th>\n",
              "      <td>/content/drive/MyDrive/DataImages/CT_COVID/202...</td>\n",
              "      <td>Covid+ve</td>\n",
              "      <td>[[[9, 9, 9], [51, 51, 51], [53, 53, 53], [50, ...</td>\n",
              "      <td>0</td>\n",
              "    </tr>\n",
              "    <tr>\n",
              "      <th>192</th>\n",
              "      <td>/content/drive/MyDrive/DataImages/CT_NonCOVID/...</td>\n",
              "      <td>Covid-ve</td>\n",
              "      <td>[[[13, 13, 13], [0, 0, 0], [1, 1, 1], [1, 1, 1...</td>\n",
              "      <td>1</td>\n",
              "    </tr>\n",
              "    <tr>\n",
              "      <th>37</th>\n",
              "      <td>/content/drive/MyDrive/DataImages/CT_COVID/202...</td>\n",
              "      <td>Covid+ve</td>\n",
              "      <td>[[[210, 210, 210], [211, 211, 211], [213, 213,...</td>\n",
              "      <td>0</td>\n",
              "    </tr>\n",
              "    <tr>\n",
              "      <th>...</th>\n",
              "      <td>...</td>\n",
              "      <td>...</td>\n",
              "      <td>...</td>\n",
              "      <td>...</td>\n",
              "    </tr>\n",
              "    <tr>\n",
              "      <th>204</th>\n",
              "      <td>/content/drive/MyDrive/DataImages/CT_COVID/202...</td>\n",
              "      <td>Covid+ve</td>\n",
              "      <td>[[[255, 255, 255], [255, 255, 255], [255, 255,...</td>\n",
              "      <td>0</td>\n",
              "    </tr>\n",
              "    <tr>\n",
              "      <th>262</th>\n",
              "      <td>/content/drive/MyDrive/DataImages/CT_COVID/202...</td>\n",
              "      <td>Covid+ve</td>\n",
              "      <td>[[[60, 60, 60], [63, 63, 63], [74, 74, 74], [6...</td>\n",
              "      <td>0</td>\n",
              "    </tr>\n",
              "    <tr>\n",
              "      <th>140</th>\n",
              "      <td>/content/drive/MyDrive/DataImages/CT_COVID/202...</td>\n",
              "      <td>Covid+ve</td>\n",
              "      <td>[[[42, 42, 42], [43, 43, 43], [43, 43, 43], [4...</td>\n",
              "      <td>0</td>\n",
              "    </tr>\n",
              "    <tr>\n",
              "      <th>368</th>\n",
              "      <td>/content/drive/MyDrive/DataImages/CT_NonCOVID/...</td>\n",
              "      <td>Covid-ve</td>\n",
              "      <td>[[[0, 0, 0], [0, 0, 0], [115, 115, 115], [217,...</td>\n",
              "      <td>1</td>\n",
              "    </tr>\n",
              "    <tr>\n",
              "      <th>243</th>\n",
              "      <td>/content/drive/MyDrive/DataImages/CT_COVID/202...</td>\n",
              "      <td>Covid+ve</td>\n",
              "      <td>[[[5, 5, 5], [8, 8, 8], [9, 7, 6], [12, 12, 12...</td>\n",
              "      <td>0</td>\n",
              "    </tr>\n",
              "  </tbody>\n",
              "</table>\n",
              "<p>746 rows × 4 columns</p>\n",
              "</div>"
            ],
            "text/plain": [
              "                                                  Path  ... label\n",
              "112  /content/drive/MyDrive/DataImages/CT_NonCOVID/...  ...     1\n",
              "317  /content/drive/MyDrive/DataImages/CT_NonCOVID/...  ...     1\n",
              "295  /content/drive/MyDrive/DataImages/CT_COVID/202...  ...     0\n",
              "192  /content/drive/MyDrive/DataImages/CT_NonCOVID/...  ...     1\n",
              "37   /content/drive/MyDrive/DataImages/CT_COVID/202...  ...     0\n",
              "..                                                 ...  ...   ...\n",
              "204  /content/drive/MyDrive/DataImages/CT_COVID/202...  ...     0\n",
              "262  /content/drive/MyDrive/DataImages/CT_COVID/202...  ...     0\n",
              "140  /content/drive/MyDrive/DataImages/CT_COVID/202...  ...     0\n",
              "368  /content/drive/MyDrive/DataImages/CT_NonCOVID/...  ...     1\n",
              "243  /content/drive/MyDrive/DataImages/CT_COVID/202...  ...     0\n",
              "\n",
              "[746 rows x 4 columns]"
            ]
          },
          "metadata": {
            "tags": []
          },
          "execution_count": 21
        }
      ]
    },
    {
      "cell_type": "code",
      "metadata": {
        "id": "dQMfd4gwCl8r"
      },
      "source": [
        "X=np.asarray(final_df['Image'].tolist())\n",
        "X=X/255\n",
        "\n"
      ],
      "execution_count": null,
      "outputs": []
    },
    {
      "cell_type": "code",
      "metadata": {
        "id": "Pe-GIGjySJ-d"
      },
      "source": [
        ""
      ],
      "execution_count": null,
      "outputs": []
    },
    {
      "cell_type": "code",
      "metadata": {
        "id": "UO5LKIrHE5lH"
      },
      "source": [
        "Y=final_df['label']\n"
      ],
      "execution_count": null,
      "outputs": []
    },
    {
      "cell_type": "code",
      "metadata": {
        "colab": {
          "base_uri": "https://localhost:8080/"
        },
        "id": "jdtzyFMrTvGA",
        "outputId": "18692b8d-cb34-4715-ffbf-80769f7c9c60"
      },
      "source": [
        "Y[112]=2"
      ],
      "execution_count": null,
      "outputs": [
        {
          "output_type": "stream",
          "text": [
            "/usr/local/lib/python3.7/dist-packages/ipykernel_launcher.py:1: SettingWithCopyWarning: \n",
            "A value is trying to be set on a copy of a slice from a DataFrame\n",
            "\n",
            "See the caveats in the documentation: https://pandas.pydata.org/pandas-docs/stable/user_guide/indexing.html#returning-a-view-versus-a-copy\n",
            "  \"\"\"Entry point for launching an IPython kernel.\n",
            "/usr/local/lib/python3.7/dist-packages/IPython/core/interactiveshell.py:2882: SettingWithCopyWarning: \n",
            "A value is trying to be set on a copy of a slice from a DataFrame\n",
            "\n",
            "See the caveats in the documentation: https://pandas.pydata.org/pandas-docs/stable/user_guide/indexing.html#returning-a-view-versus-a-copy\n",
            "  exec(code_obj, self.user_global_ns, self.user_ns)\n"
          ],
          "name": "stderr"
        }
      ]
    },
    {
      "cell_type": "code",
      "metadata": {
        "id": "KxgJPhkD7Oji"
      },
      "source": [
        "from sklearn import *\n",
        "from keras.utils import *\n"
      ],
      "execution_count": null,
      "outputs": []
    },
    {
      "cell_type": "code",
      "metadata": {
        "id": "KI-ILsEBZ_Lk"
      },
      "source": [
        "y=to_categorical(Y)\n"
      ],
      "execution_count": null,
      "outputs": []
    },
    {
      "cell_type": "code",
      "metadata": {
        "id": "74r3KRW8Uxf6"
      },
      "source": [
        "Label_encoder=LabelEncoder()\n",
        "vector=Label_encoder.fit_transform(Y)"
      ],
      "execution_count": null,
      "outputs": []
    },
    {
      "cell_type": "code",
      "metadata": {
        "colab": {
          "base_uri": "https://localhost:8080/"
        },
        "id": "LrelJEHCUxqk",
        "outputId": "307b9297-baa6-4bcd-b8c2-1e046a83e318"
      },
      "source": [
        "xp=to_categorical(vector)\n",
        "xp=np.asarray(xp)\n",
        "xp.shape\n",
        "\n",
        "xp"
      ],
      "execution_count": null,
      "outputs": [
        {
          "output_type": "execute_result",
          "data": {
            "text/plain": [
              "array([[0., 0., 1.],\n",
              "       [0., 1., 0.],\n",
              "       [1., 0., 0.],\n",
              "       ...,\n",
              "       [1., 0., 0.],\n",
              "       [0., 1., 0.],\n",
              "       [1., 0., 0.]], dtype=float32)"
            ]
          },
          "metadata": {
            "tags": []
          },
          "execution_count": 28
        }
      ]
    },
    {
      "cell_type": "code",
      "metadata": {
        "id": "POUZJX55a9eZ"
      },
      "source": [
        ""
      ],
      "execution_count": null,
      "outputs": []
    },
    {
      "cell_type": "code",
      "metadata": {
        "id": "tY4knfoxRLKS"
      },
      "source": [
        "x_train1,x_test1, y_train1,y_test1=train_test_split(X,y,test_size=0.25,random_state=44)"
      ],
      "execution_count": null,
      "outputs": []
    },
    {
      "cell_type": "code",
      "metadata": {
        "id": "eaOSDXkXbC_a"
      },
      "source": [
        ""
      ],
      "execution_count": null,
      "outputs": []
    },
    {
      "cell_type": "code",
      "metadata": {
        "id": "BKE_uS3bVpZc"
      },
      "source": [
        "y_train1=y_train1.astype(int)\n",
        "y_test1=y_test1.astype(int)"
      ],
      "execution_count": null,
      "outputs": []
    },
    {
      "cell_type": "code",
      "metadata": {
        "id": "OGcMf-q6X9Do"
      },
      "source": [
        ""
      ],
      "execution_count": null,
      "outputs": []
    },
    {
      "cell_type": "code",
      "metadata": {
        "id": "h9MLE-Pe7OmD"
      },
      "source": [
        "import autokeras as ak\n",
        "import tensorflow as tf"
      ],
      "execution_count": null,
      "outputs": []
    },
    {
      "cell_type": "code",
      "metadata": {
        "id": "ibMpCkdtY-eW"
      },
      "source": [
        "x=X[:100]\n",
        "y=Y[:100]\n",
        "\n"
      ],
      "execution_count": null,
      "outputs": []
    },
    {
      "cell_type": "code",
      "metadata": {
        "id": "FEb-2v3t-mJi"
      },
      "source": [
        "x_train,x_test, y_train,y_test=train_test_split(x,y,test_size=0.25,random_state=44)"
      ],
      "execution_count": null,
      "outputs": []
    },
    {
      "cell_type": "code",
      "metadata": {
        "id": "MP3BKRAiOd1W",
        "colab": {
          "base_uri": "https://localhost:8080/"
        },
        "outputId": "c9d3cd03-4171-4b3c-9c87-846cff7e0662"
      },
      "source": [
        "x_train.shape"
      ],
      "execution_count": null,
      "outputs": [
        {
          "output_type": "execute_result",
          "data": {
            "text/plain": [
              "(75, 32, 32, 3)"
            ]
          },
          "metadata": {
            "tags": []
          },
          "execution_count": 34
        }
      ]
    },
    {
      "cell_type": "code",
      "metadata": {
        "id": "5lMqioad7OqD"
      },
      "source": [
        "clf=ak.ImageClassifier(max_trials=3)"
      ],
      "execution_count": null,
      "outputs": []
    },
    {
      "cell_type": "code",
      "metadata": {
        "id": "nYD2VRCfX__t"
      },
      "source": [
        ""
      ],
      "execution_count": null,
      "outputs": []
    },
    {
      "cell_type": "code",
      "metadata": {
        "id": "FAVxlcYbzAik",
        "colab": {
          "base_uri": "https://localhost:8080/"
        },
        "outputId": "c41fbbb8-c2aa-4f8d-cbe0-5bd3f8e5393c"
      },
      "source": [
        "clf.fit(x_train1,y_train1,validation_data=(x_test1,y_test1),epochs=30)\n"
      ],
      "execution_count": null,
      "outputs": [
        {
          "output_type": "stream",
          "text": [
            "Trial 3 Complete [00h 20m 55s]\n",
            "val_loss: 0.3944564759731293\n",
            "\n",
            "Best val_loss So Far: 0.3126746714115143\n",
            "Total elapsed time: 00h 23m 31s\n",
            "INFO:tensorflow:Oracle triggered exit\n",
            "Epoch 1/30\n",
            "18/18 [==============================] - 1s 15ms/step - loss: 0.7539 - accuracy: 0.5742 - val_loss: 0.6512 - val_accuracy: 0.6471\n",
            "Epoch 2/30\n",
            "18/18 [==============================] - 0s 8ms/step - loss: 0.6059 - accuracy: 0.6959 - val_loss: 0.5807 - val_accuracy: 0.7166\n",
            "Epoch 3/30\n",
            "18/18 [==============================] - 0s 8ms/step - loss: 0.5310 - accuracy: 0.7674 - val_loss: 0.5638 - val_accuracy: 0.7540\n",
            "Epoch 4/30\n",
            "18/18 [==============================] - 0s 8ms/step - loss: 0.4476 - accuracy: 0.7907 - val_loss: 0.5071 - val_accuracy: 0.8128\n",
            "Epoch 5/30\n",
            "18/18 [==============================] - 0s 7ms/step - loss: 0.3912 - accuracy: 0.8247 - val_loss: 0.4861 - val_accuracy: 0.8021\n",
            "Epoch 6/30\n",
            "18/18 [==============================] - 0s 8ms/step - loss: 0.3344 - accuracy: 0.8515 - val_loss: 0.4720 - val_accuracy: 0.7914\n",
            "Epoch 7/30\n",
            "18/18 [==============================] - 0s 8ms/step - loss: 0.3107 - accuracy: 0.8766 - val_loss: 0.4058 - val_accuracy: 0.8503\n",
            "Epoch 8/30\n",
            "18/18 [==============================] - 0s 8ms/step - loss: 0.2687 - accuracy: 0.9123 - val_loss: 0.3873 - val_accuracy: 0.8610\n",
            "Epoch 9/30\n",
            "18/18 [==============================] - 0s 8ms/step - loss: 0.2558 - accuracy: 0.8998 - val_loss: 0.3610 - val_accuracy: 0.8770\n",
            "Epoch 10/30\n",
            "18/18 [==============================] - 0s 8ms/step - loss: 0.2153 - accuracy: 0.9034 - val_loss: 0.3736 - val_accuracy: 0.8396\n",
            "Epoch 11/30\n",
            "18/18 [==============================] - 0s 8ms/step - loss: 0.2025 - accuracy: 0.9088 - val_loss: 0.3665 - val_accuracy: 0.8717\n",
            "Epoch 12/30\n",
            "18/18 [==============================] - 0s 8ms/step - loss: 0.1597 - accuracy: 0.9428 - val_loss: 0.3672 - val_accuracy: 0.8556\n",
            "Epoch 13/30\n",
            "18/18 [==============================] - 0s 7ms/step - loss: 0.1780 - accuracy: 0.9374 - val_loss: 0.3500 - val_accuracy: 0.8770\n",
            "Epoch 14/30\n",
            "18/18 [==============================] - 0s 8ms/step - loss: 0.1847 - accuracy: 0.9284 - val_loss: 0.3380 - val_accuracy: 0.8824\n",
            "Epoch 15/30\n",
            "18/18 [==============================] - 0s 8ms/step - loss: 0.1366 - accuracy: 0.9517 - val_loss: 0.3644 - val_accuracy: 0.8770\n",
            "Epoch 16/30\n",
            "18/18 [==============================] - 0s 8ms/step - loss: 0.1258 - accuracy: 0.9535 - val_loss: 0.4023 - val_accuracy: 0.8556\n",
            "Epoch 17/30\n",
            "18/18 [==============================] - 0s 8ms/step - loss: 0.1442 - accuracy: 0.9463 - val_loss: 0.3700 - val_accuracy: 0.8663\n",
            "Epoch 18/30\n",
            "18/18 [==============================] - 0s 8ms/step - loss: 0.1494 - accuracy: 0.9553 - val_loss: 0.3982 - val_accuracy: 0.8503\n",
            "Epoch 19/30\n",
            "18/18 [==============================] - 0s 8ms/step - loss: 0.1120 - accuracy: 0.9553 - val_loss: 0.4135 - val_accuracy: 0.8770\n",
            "Epoch 20/30\n",
            "18/18 [==============================] - 0s 9ms/step - loss: 0.1110 - accuracy: 0.9678 - val_loss: 0.4043 - val_accuracy: 0.8824\n",
            "Epoch 21/30\n",
            "18/18 [==============================] - 0s 7ms/step - loss: 0.0871 - accuracy: 0.9678 - val_loss: 0.4520 - val_accuracy: 0.8610\n",
            "Epoch 22/30\n",
            "18/18 [==============================] - 0s 8ms/step - loss: 0.0930 - accuracy: 0.9642 - val_loss: 0.4299 - val_accuracy: 0.8556\n",
            "Epoch 23/30\n",
            "18/18 [==============================] - 0s 8ms/step - loss: 0.0872 - accuracy: 0.9678 - val_loss: 0.4118 - val_accuracy: 0.8770\n",
            "Epoch 24/30\n",
            "18/18 [==============================] - 0s 8ms/step - loss: 0.1039 - accuracy: 0.9571 - val_loss: 0.4114 - val_accuracy: 0.8717\n",
            "Epoch 25/30\n",
            "18/18 [==============================] - 0s 8ms/step - loss: 0.0760 - accuracy: 0.9696 - val_loss: 0.4417 - val_accuracy: 0.8610\n",
            "Epoch 26/30\n",
            "18/18 [==============================] - 0s 8ms/step - loss: 0.1028 - accuracy: 0.9517 - val_loss: 0.5864 - val_accuracy: 0.8075\n",
            "Epoch 27/30\n",
            "18/18 [==============================] - 0s 8ms/step - loss: 0.1533 - accuracy: 0.9499 - val_loss: 0.4846 - val_accuracy: 0.8289\n",
            "Epoch 28/30\n",
            "18/18 [==============================] - 0s 8ms/step - loss: 0.1265 - accuracy: 0.9517 - val_loss: 0.5387 - val_accuracy: 0.8235\n",
            "Epoch 29/30\n",
            "18/18 [==============================] - 0s 8ms/step - loss: 0.1299 - accuracy: 0.9428 - val_loss: 0.4488 - val_accuracy: 0.8930\n",
            "Epoch 30/30\n",
            "18/18 [==============================] - 0s 8ms/step - loss: 0.1021 - accuracy: 0.9589 - val_loss: 0.3780 - val_accuracy: 0.8717\n",
            "INFO:tensorflow:Assets written to: ./image_classifier/best_model/assets\n"
          ],
          "name": "stdout"
        }
      ]
    },
    {
      "cell_type": "code",
      "metadata": {
        "id": "CyT2j7B97O2C"
      },
      "source": [
        "path=\"/content/negative.jpg\"\n",
        "path2=\"/content/Testpos.jpg\"\n",
        "pred=np.asarray(Image.open(path).convert(\"RGB\").resize((32,32)))\n",
        "pred=pred/255\n",
        "\n",
        "\n",
        "pred2=np.asarray(Image.open(path).convert(\"RGB\").resize((32,32)))\n",
        "pred2=pred2/255"
      ],
      "execution_count": null,
      "outputs": []
    },
    {
      "cell_type": "code",
      "metadata": {
        "id": "_LFRwuMssQ6Q"
      },
      "source": [
        "model=clf.export_model()\n",
        "model.summary()"
      ],
      "execution_count": null,
      "outputs": []
    },
    {
      "cell_type": "code",
      "metadata": {
        "id": "L0hqnOl42ndg",
        "colab": {
          "base_uri": "https://localhost:8080/"
        },
        "outputId": "ac3fb173-d1f1-4479-d6e3-8ef3202db580"
      },
      "source": [
        "pred=pred.reshape((-1,32,32,3))\n",
        "pred2=pred2.reshape((-1,32,32,3))\n",
        "mp=x_test1[2].reshape((-1,32,32,3))\n",
        "pred.shape\n"
      ],
      "execution_count": null,
      "outputs": [
        {
          "output_type": "execute_result",
          "data": {
            "text/plain": [
              "(1, 32, 32, 3)"
            ]
          },
          "metadata": {
            "tags": []
          },
          "execution_count": 78
        }
      ]
    },
    {
      "cell_type": "code",
      "metadata": {
        "colab": {
          "base_uri": "https://localhost:8080/"
        },
        "id": "-Wrz6EMSSTtr",
        "outputId": "a843df88-dd74-496a-e0ee-bc7d9c20707d"
      },
      "source": [
        "print(np.argmax(model.predict(pred)))\n",
        "print(np.argmax(model.predict(pred2)))"
      ],
      "execution_count": null,
      "outputs": [
        {
          "output_type": "stream",
          "text": [
            "1\n",
            "1\n"
          ],
          "name": "stdout"
        }
      ]
    },
    {
      "cell_type": "code",
      "metadata": {
        "colab": {
          "base_uri": "https://localhost:8080/"
        },
        "id": "qKsVeDqjVTuR",
        "outputId": "3ab91916-88b8-49bb-98bb-916d1d8b0bc7"
      },
      "source": [
        "y_test1[2]"
      ],
      "execution_count": null,
      "outputs": [
        {
          "output_type": "execute_result",
          "data": {
            "text/plain": [
              "array([1, 0, 0])"
            ]
          },
          "metadata": {
            "tags": []
          },
          "execution_count": 83
        }
      ]
    },
    {
      "cell_type": "code",
      "metadata": {
        "colab": {
          "base_uri": "https://localhost:8080/",
          "height": 162
        },
        "id": "R-U_CHfBM0I2",
        "outputId": "03763d0e-d624-4bbb-84b5-498a68917a13"
      },
      "source": [
        "y_test1[20]"
      ],
      "execution_count": null,
      "outputs": [
        {
          "output_type": "error",
          "ename": "NameError",
          "evalue": "ignored",
          "traceback": [
            "\u001b[0;31m---------------------------------------------------------------------------\u001b[0m",
            "\u001b[0;31mNameError\u001b[0m                                 Traceback (most recent call last)",
            "\u001b[0;32m<ipython-input-1-03eba30623e8>\u001b[0m in \u001b[0;36m<module>\u001b[0;34m()\u001b[0m\n\u001b[0;32m----> 1\u001b[0;31m \u001b[0my_test1\u001b[0m\u001b[0;34m[\u001b[0m\u001b[0;36m20\u001b[0m\u001b[0;34m]\u001b[0m\u001b[0;34m\u001b[0m\u001b[0;34m\u001b[0m\u001b[0m\n\u001b[0m",
            "\u001b[0;31mNameError\u001b[0m: name 'y_test1' is not defined"
          ]
        }
      ]
    },
    {
      "cell_type": "code",
      "metadata": {
        "id": "KmRSh3mJ2ngG",
        "colab": {
          "base_uri": "https://localhost:8080/"
        },
        "outputId": "ef6fdbfd-2563-40c3-eeb4-397585d1b644"
      },
      "source": [
        "np.argmax(model.predict(pred))"
      ],
      "execution_count": null,
      "outputs": [
        {
          "output_type": "execute_result",
          "data": {
            "text/plain": [
              "1"
            ]
          },
          "metadata": {
            "tags": []
          },
          "execution_count": 71
        }
      ]
    },
    {
      "cell_type": "code",
      "metadata": {
        "id": "oJUOZVj92niV",
        "colab": {
          "base_uri": "https://localhost:8080/"
        },
        "outputId": "ea514e60-c1fc-4f63-e8b8-f4329f4bbea1"
      },
      "source": [
        "np.argmin(model.predict(mp))\n",
        "\n",
        "\n"
      ],
      "execution_count": null,
      "outputs": [
        {
          "output_type": "execute_result",
          "data": {
            "text/plain": [
              "2"
            ]
          },
          "metadata": {
            "tags": []
          },
          "execution_count": 102
        }
      ]
    },
    {
      "cell_type": "code",
      "metadata": {
        "id": "RzIOVSdnMYyO",
        "colab": {
          "base_uri": "https://localhost:8080/"
        },
        "outputId": "97fe28cc-fc8c-428f-8be0-0d887d4f996b"
      },
      "source": [
        "!pip install pyyaml h5py  # Required to save models in HDF5 format"
      ],
      "execution_count": null,
      "outputs": [
        {
          "output_type": "stream",
          "text": [
            "Requirement already satisfied: pyyaml in /usr/local/lib/python3.7/dist-packages (3.13)\n",
            "Requirement already satisfied: h5py in /usr/local/lib/python3.7/dist-packages (3.1.0)\n",
            "Requirement already satisfied: numpy>=1.14.5; python_version == \"3.7\" in /usr/local/lib/python3.7/dist-packages (from h5py) (1.19.5)\n",
            "Requirement already satisfied: cached-property; python_version < \"3.8\" in /usr/local/lib/python3.7/dist-packages (from h5py) (1.5.2)\n"
          ],
          "name": "stdout"
        }
      ]
    },
    {
      "cell_type": "code",
      "metadata": {
        "colab": {
          "base_uri": "https://localhost:8080/"
        },
        "id": "ZmN8XQzxatQa",
        "outputId": "0d6c8aeb-82f6-4fed-b10e-9ffeda137fb0"
      },
      "source": [
        "model.save(\"Covidt\")"
      ],
      "execution_count": null,
      "outputs": [
        {
          "output_type": "stream",
          "text": [
            "INFO:tensorflow:Assets written to: Covidt/assets\n"
          ],
          "name": "stdout"
        }
      ]
    },
    {
      "cell_type": "code",
      "metadata": {
        "colab": {
          "base_uri": "https://localhost:8080/",
          "height": 162
        },
        "id": "fGE9gH31awlo",
        "outputId": "4e4668ed-bf22-4cb4-bef7-bd02bec27a4f"
      },
      "source": [
        "model.save('my_model.h5') "
      ],
      "execution_count": null,
      "outputs": [
        {
          "output_type": "error",
          "ename": "NameError",
          "evalue": "ignored",
          "traceback": [
            "\u001b[0;31m---------------------------------------------------------------------------\u001b[0m",
            "\u001b[0;31mNameError\u001b[0m                                 Traceback (most recent call last)",
            "\u001b[0;32m<ipython-input-5-549810e352cb>\u001b[0m in \u001b[0;36m<module>\u001b[0;34m()\u001b[0m\n\u001b[0;32m----> 1\u001b[0;31m \u001b[0mmodel\u001b[0m\u001b[0;34m.\u001b[0m\u001b[0msave\u001b[0m\u001b[0;34m(\u001b[0m\u001b[0;34m'my_model.h5'\u001b[0m\u001b[0;34m)\u001b[0m\u001b[0;34m\u001b[0m\u001b[0;34m\u001b[0m\u001b[0m\n\u001b[0m",
            "\u001b[0;31mNameError\u001b[0m: name 'model' is not defined"
          ]
        }
      ]
    },
    {
      "cell_type": "code",
      "metadata": {
        "colab": {
          "base_uri": "https://localhost:8080/",
          "height": 337
        },
        "id": "vv5_BdBmbLEf",
        "outputId": "6eb58f8a-d09c-4357-d7e6-70bb2a700bc2"
      },
      "source": [
        "\n",
        "new_model = tf.keras.models.load_model('my_model.h5')\n",
        "new_model.summary()"
      ],
      "execution_count": null,
      "outputs": [
        {
          "output_type": "error",
          "ename": "OSError",
          "evalue": "ignored",
          "traceback": [
            "\u001b[0;31m---------------------------------------------------------------------------\u001b[0m",
            "\u001b[0;31mOSError\u001b[0m                                   Traceback (most recent call last)",
            "\u001b[0;32m<ipython-input-6-76786b4e3f34>\u001b[0m in \u001b[0;36m<module>\u001b[0;34m()\u001b[0m\n\u001b[1;32m      1\u001b[0m \u001b[0;34m\u001b[0m\u001b[0m\n\u001b[0;32m----> 2\u001b[0;31m \u001b[0mnew_model\u001b[0m \u001b[0;34m=\u001b[0m \u001b[0mtf\u001b[0m\u001b[0;34m.\u001b[0m\u001b[0mkeras\u001b[0m\u001b[0;34m.\u001b[0m\u001b[0mmodels\u001b[0m\u001b[0;34m.\u001b[0m\u001b[0mload_model\u001b[0m\u001b[0;34m(\u001b[0m\u001b[0;34m'my_model.h5'\u001b[0m\u001b[0;34m)\u001b[0m\u001b[0;34m\u001b[0m\u001b[0;34m\u001b[0m\u001b[0m\n\u001b[0m\u001b[1;32m      3\u001b[0m \u001b[0mnew_model\u001b[0m\u001b[0;34m.\u001b[0m\u001b[0msummary\u001b[0m\u001b[0;34m(\u001b[0m\u001b[0;34m)\u001b[0m\u001b[0;34m\u001b[0m\u001b[0;34m\u001b[0m\u001b[0m\n",
            "\u001b[0;32m/usr/local/lib/python3.7/dist-packages/tensorflow/python/keras/saving/save.py\u001b[0m in \u001b[0;36mload_model\u001b[0;34m(filepath, custom_objects, compile, options)\u001b[0m\n\u001b[1;32m    204\u001b[0m         \u001b[0mfilepath\u001b[0m \u001b[0;34m=\u001b[0m \u001b[0mpath_to_string\u001b[0m\u001b[0;34m(\u001b[0m\u001b[0mfilepath\u001b[0m\u001b[0;34m)\u001b[0m\u001b[0;34m\u001b[0m\u001b[0;34m\u001b[0m\u001b[0m\n\u001b[1;32m    205\u001b[0m         \u001b[0;32mif\u001b[0m \u001b[0misinstance\u001b[0m\u001b[0;34m(\u001b[0m\u001b[0mfilepath\u001b[0m\u001b[0;34m,\u001b[0m \u001b[0mstr\u001b[0m\u001b[0;34m)\u001b[0m\u001b[0;34m:\u001b[0m\u001b[0;34m\u001b[0m\u001b[0;34m\u001b[0m\u001b[0m\n\u001b[0;32m--> 206\u001b[0;31m           \u001b[0;32mreturn\u001b[0m \u001b[0msaved_model_load\u001b[0m\u001b[0;34m.\u001b[0m\u001b[0mload\u001b[0m\u001b[0;34m(\u001b[0m\u001b[0mfilepath\u001b[0m\u001b[0;34m,\u001b[0m \u001b[0mcompile\u001b[0m\u001b[0;34m,\u001b[0m \u001b[0moptions\u001b[0m\u001b[0;34m)\u001b[0m\u001b[0;34m\u001b[0m\u001b[0;34m\u001b[0m\u001b[0m\n\u001b[0m\u001b[1;32m    207\u001b[0m \u001b[0;34m\u001b[0m\u001b[0m\n\u001b[1;32m    208\u001b[0m   raise IOError(\n",
            "\u001b[0;32m/usr/local/lib/python3.7/dist-packages/tensorflow/python/keras/saving/saved_model/load.py\u001b[0m in \u001b[0;36mload\u001b[0;34m(path, compile, options)\u001b[0m\n\u001b[1;32m    119\u001b[0m   \u001b[0;31m# Look for metadata file or parse the SavedModel\u001b[0m\u001b[0;34m\u001b[0m\u001b[0;34m\u001b[0m\u001b[0;34m\u001b[0m\u001b[0m\n\u001b[1;32m    120\u001b[0m   \u001b[0mmetadata\u001b[0m \u001b[0;34m=\u001b[0m \u001b[0msaved_metadata_pb2\u001b[0m\u001b[0;34m.\u001b[0m\u001b[0mSavedMetadata\u001b[0m\u001b[0;34m(\u001b[0m\u001b[0;34m)\u001b[0m\u001b[0;34m\u001b[0m\u001b[0;34m\u001b[0m\u001b[0m\n\u001b[0;32m--> 121\u001b[0;31m   \u001b[0mmeta_graph_def\u001b[0m \u001b[0;34m=\u001b[0m \u001b[0mloader_impl\u001b[0m\u001b[0;34m.\u001b[0m\u001b[0mparse_saved_model\u001b[0m\u001b[0;34m(\u001b[0m\u001b[0mpath\u001b[0m\u001b[0;34m)\u001b[0m\u001b[0;34m.\u001b[0m\u001b[0mmeta_graphs\u001b[0m\u001b[0;34m[\u001b[0m\u001b[0;36m0\u001b[0m\u001b[0;34m]\u001b[0m\u001b[0;34m\u001b[0m\u001b[0;34m\u001b[0m\u001b[0m\n\u001b[0m\u001b[1;32m    122\u001b[0m   \u001b[0mobject_graph_def\u001b[0m \u001b[0;34m=\u001b[0m \u001b[0mmeta_graph_def\u001b[0m\u001b[0;34m.\u001b[0m\u001b[0mobject_graph_def\u001b[0m\u001b[0;34m\u001b[0m\u001b[0;34m\u001b[0m\u001b[0m\n\u001b[1;32m    123\u001b[0m   \u001b[0mpath_to_metadata_pb\u001b[0m \u001b[0;34m=\u001b[0m \u001b[0mos\u001b[0m\u001b[0;34m.\u001b[0m\u001b[0mpath\u001b[0m\u001b[0;34m.\u001b[0m\u001b[0mjoin\u001b[0m\u001b[0;34m(\u001b[0m\u001b[0mpath\u001b[0m\u001b[0;34m,\u001b[0m \u001b[0mconstants\u001b[0m\u001b[0;34m.\u001b[0m\u001b[0mSAVED_METADATA_PATH\u001b[0m\u001b[0;34m)\u001b[0m\u001b[0;34m\u001b[0m\u001b[0;34m\u001b[0m\u001b[0m\n",
            "\u001b[0;32m/usr/local/lib/python3.7/dist-packages/tensorflow/python/saved_model/loader_impl.py\u001b[0m in \u001b[0;36mparse_saved_model\u001b[0;34m(export_dir)\u001b[0m\n\u001b[1;32m    114\u001b[0m         \u001b[0;34m\"SavedModel file does not exist at: %s%s{%s|%s}\"\u001b[0m \u001b[0;34m%\u001b[0m\u001b[0;34m\u001b[0m\u001b[0;34m\u001b[0m\u001b[0m\n\u001b[1;32m    115\u001b[0m         (export_dir, os.path.sep, constants.SAVED_MODEL_FILENAME_PBTXT,\n\u001b[0;32m--> 116\u001b[0;31m          constants.SAVED_MODEL_FILENAME_PB))\n\u001b[0m\u001b[1;32m    117\u001b[0m \u001b[0;34m\u001b[0m\u001b[0m\n\u001b[1;32m    118\u001b[0m \u001b[0;34m\u001b[0m\u001b[0m\n",
            "\u001b[0;31mOSError\u001b[0m: SavedModel file does not exist at: my_model.h5/{saved_model.pbtxt|saved_model.pb}"
          ]
        }
      ]
    },
    {
      "cell_type": "code",
      "metadata": {
        "id": "VjLddTurZpMD"
      },
      "source": [
        ""
      ],
      "execution_count": null,
      "outputs": []
    },
    {
      "cell_type": "code",
      "metadata": {
        "id": "-ahow7VDY0Bc"
      },
      "source": [
        ""
      ],
      "execution_count": null,
      "outputs": []
    },
    {
      "cell_type": "code",
      "metadata": {
        "id": "RyuYt8EQW1Y6"
      },
      "source": [
        ""
      ],
      "execution_count": null,
      "outputs": []
    }
  ]
}